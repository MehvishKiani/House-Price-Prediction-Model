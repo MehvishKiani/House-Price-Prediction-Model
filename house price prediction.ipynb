{
 "cells": [
  {
   "cell_type": "code",
   "execution_count": 1,
   "id": "9be4371a",
   "metadata": {},
   "outputs": [
    {
     "name": "stdout",
     "output_type": "stream",
     "text": [
      "WARNING:tensorflow:From G:\\Anaconda\\Lib\\site-packages\\keras\\src\\losses.py:2976: The name tf.losses.sparse_softmax_cross_entropy is deprecated. Please use tf.compat.v1.losses.sparse_softmax_cross_entropy instead.\n",
      "\n"
     ]
    }
   ],
   "source": [
    "# Import necessary libraries\n",
    "import pandas as pd\n",
    "import numpy as np\n",
    "import tensorflow as tf\n",
    "from sklearn.model_selection import train_test_split\n",
    "from sklearn.preprocessing import StandardScaler\n",
    "from tensorflow.keras.models import Sequential\n",
    "from tensorflow.keras.layers import Dense\n",
    "from tensorflow.keras.callbacks import ModelCheckpoint\n",
    "from tkinter import Tk, Label, Entry, Button"
   ]
  },
  {
   "cell_type": "code",
   "execution_count": 2,
   "id": "31ed22fd",
   "metadata": {},
   "outputs": [],
   "source": [
    "# Load the dataset\n",
    "dataset_path = \"House_Price_dataset.csv\"  # Update with the correct dataset path\n",
    "data = pd.read_csv(dataset_path)"
   ]
  },
  {
   "cell_type": "code",
   "execution_count": 6,
   "id": "f09cbc1c",
   "metadata": {},
   "outputs": [
    {
     "name": "stdout",
     "output_type": "stream",
     "text": [
      "Index(['property_id', 'location_id', 'page_url', 'property_type', 'price',\n",
      "       'location', 'city', 'province_name', 'latitude', 'longitude', 'baths',\n",
      "       'area', 'purpose', 'bedrooms', 'date_added', 'agency', 'agent',\n",
      "       'Area Type', 'Area Size', 'Area Category'],\n",
      "      dtype='object')\n"
     ]
    }
   ],
   "source": [
    "print(data.columns)"
   ]
  },
  {
   "cell_type": "code",
   "execution_count": 18,
   "id": "84897d57",
   "metadata": {},
   "outputs": [],
   "source": [
    "# Identify non-numeric columns\n",
    "non_numeric_columns = data.select_dtypes(include=['object']).columns.tolist()"
   ]
  },
  {
   "cell_type": "code",
   "execution_count": 19,
   "id": "80fec4a5",
   "metadata": {},
   "outputs": [],
   "source": [
    "# Exclude non-numeric columns from feature_columns\n",
    "feature_columns = [col for col in data.columns if col != target_column and col not in non_numeric_columns]"
   ]
  },
  {
   "cell_type": "code",
   "execution_count": 13,
   "id": "6076d2c4",
   "metadata": {},
   "outputs": [],
   "source": [
    "# Drop rows with non-numeric values in the 'feature_columns'\n",
    "data = data.dropna(subset=feature_columns)"
   ]
  },
  {
   "cell_type": "code",
   "execution_count": 14,
   "id": "06feee43",
   "metadata": {},
   "outputs": [],
   "source": [
    "# # Ensure correct column names\n",
    "# target_column = 'price'  # Update with the correct column name of your target variable\n",
    "# # feature_columns = [col for col in data.columns if col != target_column]"
   ]
  },
  {
   "cell_type": "code",
   "execution_count": 20,
   "id": "b2511989",
   "metadata": {},
   "outputs": [],
   "source": [
    "# Preprocessing\n",
    "X = data[feature_columns].values\n",
    "y = data[target_column].values"
   ]
  },
  {
   "cell_type": "code",
   "execution_count": 21,
   "id": "3d722842",
   "metadata": {},
   "outputs": [],
   "source": [
    "# Splitting the dataset into the Training set and Test set\n",
    "X_train, X_test, y_train, y_test = train_test_split(X, y, test_size=0.2, random_state=42)"
   ]
  },
  {
   "cell_type": "code",
   "execution_count": 22,
   "id": "4239050c",
   "metadata": {},
   "outputs": [],
   "source": [
    "# Feature Scaling\n",
    "sc = StandardScaler()\n",
    "X_train = sc.fit_transform(X_train)\n",
    "X_test = sc.transform(X_test)"
   ]
  },
  {
   "cell_type": "code",
   "execution_count": 26,
   "id": "7b30a8ed",
   "metadata": {},
   "outputs": [],
   "source": [
    "# Build the Neural Network model\n",
    "model = Sequential([\n",
    "    Dense(128, activation='relu', input_shape=(X_train.shape[1],)),\n",
    "    Dense(64, activation='relu'),\n",
    "    Dense(1)\n",
    "])"
   ]
  },
  {
   "cell_type": "code",
   "execution_count": 27,
   "id": "1ac06946",
   "metadata": {},
   "outputs": [],
   "source": [
    "# Compile the model\n",
    "model.compile(optimizer=tf.optimizers.Adam(), loss='mean_squared_error', metrics=['mae'])"
   ]
  },
  {
   "cell_type": "code",
   "execution_count": 29,
   "id": "6d446a77",
   "metadata": {},
   "outputs": [
    {
     "name": "stdout",
     "output_type": "stream",
     "text": [
      "Epoch 1/10\n",
      "WARNING:tensorflow:From G:\\Anaconda\\Lib\\site-packages\\keras\\src\\utils\\tf_utils.py:492: The name tf.ragged.RaggedTensorValue is deprecated. Please use tf.compat.v1.ragged.RaggedTensorValue instead.\n",
      "\n",
      "WARNING:tensorflow:From G:\\Anaconda\\Lib\\site-packages\\keras\\src\\engine\\base_layer_utils.py:384: The name tf.executing_eagerly_outside_functions is deprecated. Please use tf.compat.v1.executing_eagerly_outside_functions instead.\n",
      "\n",
      "3102/3110 [============================>.] - ETA: 0s - loss: 1750167497736192.0000 - mae: 19014602.0000\n",
      "Epoch 1: val_loss improved from inf to 1801252644061184.00000, saving model to best_model.h5\n"
     ]
    },
    {
     "name": "stderr",
     "output_type": "stream",
     "text": [
      "G:\\Anaconda\\Lib\\site-packages\\keras\\src\\engine\\training.py:3103: UserWarning: You are saving your model as an HDF5 file via `model.save()`. This file format is considered legacy. We recommend using instead the native Keras format, e.g. `model.save('my_model.keras')`.\n",
      "  saving_api.save_model(\n"
     ]
    },
    {
     "name": "stdout",
     "output_type": "stream",
     "text": [
      "3110/3110 [==============================] - 19s 5ms/step - loss: 1747908613373952.0000 - mae: 19006980.0000 - val_loss: 1801252644061184.0000 - val_mae: 19125446.0000\n",
      "Epoch 2/10\n",
      "3103/3110 [============================>.] - ETA: 0s - loss: 1639086087471104.0000 - mae: 18185920.0000\n",
      "Epoch 2: val_loss improved from 1801252644061184.00000 to 1652903131480064.00000, saving model to best_model.h5\n",
      "3110/3110 [==============================] - 17s 5ms/step - loss: 1655178256187392.0000 - mae: 18199826.0000 - val_loss: 1652903131480064.0000 - val_mae: 17849740.0000\n",
      "Epoch 3/10\n",
      "3102/3110 [============================>.] - ETA: 0s - loss: 1493320803024896.0000 - mae: 16709113.0000\n",
      "Epoch 3: val_loss improved from 1652903131480064.00000 to 1474536226684928.00000, saving model to best_model.h5\n",
      "3110/3110 [==============================] - 15s 5ms/step - loss: 1491890578915328.0000 - mae: 16703505.0000 - val_loss: 1474536226684928.0000 - val_mae: 16251183.0000\n",
      "Epoch 4/10\n",
      "3108/3110 [============================>.] - ETA: 0s - loss: 1326123631771648.0000 - mae: 15276634.0000\n",
      "Epoch 4: val_loss improved from 1474536226684928.00000 to 1330439805468672.00000, saving model to best_model.h5\n",
      "3110/3110 [==============================] - 19s 6ms/step - loss: 1326167789404160.0000 - mae: 15278659.0000 - val_loss: 1330439805468672.0000 - val_mae: 15264463.0000\n",
      "Epoch 5/10\n",
      "3104/3110 [============================>.] - ETA: 0s - loss: 1239644331048960.0000 - mae: 14849058.0000\n",
      "Epoch 5: val_loss improved from 1330439805468672.00000 to 1267794083577856.00000, saving model to best_model.h5\n",
      "3110/3110 [==============================] - 13s 4ms/step - loss: 1239316302921728.0000 - mae: 14850537.0000 - val_loss: 1267794083577856.0000 - val_mae: 15169695.0000\n",
      "Epoch 6/10\n",
      "3101/3110 [============================>.] - ETA: 0s - loss: 1196229459443712.0000 - mae: 14943613.0000\n",
      "Epoch 6: val_loss improved from 1267794083577856.00000 to 1240324546494464.00000, saving model to best_model.h5\n",
      "3110/3110 [==============================] - 13s 4ms/step - loss: 1200788298792960.0000 - mae: 14959504.0000 - val_loss: 1240324546494464.0000 - val_mae: 15347813.0000\n",
      "Epoch 7/10\n",
      "3102/3110 [============================>.] - ETA: 0s - loss: 1187062791274496.0000 - mae: 15196893.0000\n",
      "Epoch 7: val_loss improved from 1240324546494464.00000 to 1228251124989952.00000, saving model to best_model.h5\n",
      "3110/3110 [==============================] - 13s 4ms/step - loss: 1186859182981120.0000 - mae: 15196829.0000 - val_loss: 1228251124989952.0000 - val_mae: 15529206.0000\n",
      "Epoch 8/10\n",
      "3106/3110 [============================>.] - ETA: 0s - loss: 1181851385331712.0000 - mae: 15260632.0000\n",
      "Epoch 8: val_loss improved from 1228251124989952.00000 to 1223632424534016.00000, saving model to best_model.h5\n",
      "3110/3110 [==============================] - 14s 4ms/step - loss: 1180987157381120.0000 - mae: 15256539.0000 - val_loss: 1223632424534016.0000 - val_mae: 15537229.0000\n",
      "Epoch 9/10\n",
      "3102/3110 [============================>.] - ETA: 0s - loss: 1178796455624704.0000 - mae: 15285997.0000\n",
      "Epoch 9: val_loss improved from 1223632424534016.00000 to 1220176183820288.00000, saving model to best_model.h5\n",
      "3110/3110 [==============================] - 18s 6ms/step - loss: 1177747812515840.0000 - mae: 15286065.0000 - val_loss: 1220176183820288.0000 - val_mae: 15521791.0000\n",
      "Epoch 10/10\n",
      "3105/3110 [============================>.] - ETA: 0s - loss: 1175010173517824.0000 - mae: 15240539.0000\n",
      "Epoch 10: val_loss improved from 1220176183820288.00000 to 1217151318884352.00000, saving model to best_model.h5\n",
      "3110/3110 [==============================] - 17s 5ms/step - loss: 1174931387711488.0000 - mae: 15243121.0000 - val_loss: 1217151318884352.0000 - val_mae: 15496942.0000\n"
     ]
    }
   ],
   "source": [
    "# Define callbacks\n",
    "checkpoint = ModelCheckpoint(\"best_model.h5\", monitor='val_loss', verbose=1, save_best_only=True, mode='min')\n",
    "\n",
    "# Train the model\n",
    "history = model.fit(X_train, y_train, batch_size=32, epochs=10, validation_data=(X_test, y_test), callbacks=[checkpoint])\n"
   ]
  },
  {
   "cell_type": "code",
   "execution_count": 30,
   "id": "bf149792",
   "metadata": {},
   "outputs": [],
   "source": [
    "# Load the best model\n",
    "best_model = tf.keras.models.load_model(\"best_model.h5\")"
   ]
  },
  {
   "cell_type": "code",
   "execution_count": 31,
   "id": "1aed172b",
   "metadata": {},
   "outputs": [
    {
     "name": "stdout",
     "output_type": "stream",
     "text": [
      "1/1 [==============================] - 0s 310ms/step\n"
     ]
    }
   ],
   "source": [
    "# Create GUI\n",
    "def predict_price():\n",
    "    try:\n",
    "        features = [float(entry.get()) for entry in entries]\n",
    "        features = np.array(features).reshape(1, -1)\n",
    "        features = sc.transform(features)\n",
    "        predicted_price = best_model.predict(features)\n",
    "        result_label.config(text=f\"Predicted Price: {predicted_price[0][0]}\")\n",
    "    except Exception as e:\n",
    "        result_label.config(text=f\"Error: {str(e)}\")\n",
    "\n",
    "# Initialize GUI\n",
    "root = Tk()\n",
    "root.title(\"House Price Predictor\")\n",
    "\n",
    "# Create input fields\n",
    "entries = []\n",
    "labels = feature_columns  # Use feature columns as labels\n",
    "\n",
    "for i, label_text in enumerate(labels):\n",
    "    label = Label(root, text=label_text)\n",
    "    label.grid(row=i, column=0, padx=10, pady=10)\n",
    "    entry = Entry(root)\n",
    "    entry.grid(row=i, column=1, padx=10, pady=10)\n",
    "    entries.append(entry)\n",
    "\n",
    "# Create button to predict price\n",
    "predict_button = Button(root, text=\"Predict Price\", command=predict_price)\n",
    "predict_button.grid(row=len(labels), columnspan=2, padx=10, pady=10)\n",
    "\n",
    "# Label to display result\n",
    "result_label = Label(root, text=\"\")\n",
    "result_label.grid(row=len(labels) + 1, columnspan=2, padx=10, pady=10)\n",
    "\n",
    "root.mainloop()"
   ]
  },
  {
   "cell_type": "code",
   "execution_count": null,
   "id": "cca9a55e",
   "metadata": {},
   "outputs": [],
   "source": []
  }
 ],
 "metadata": {
  "kernelspec": {
   "display_name": "Python 3 (ipykernel)",
   "language": "python",
   "name": "python3"
  },
  "language_info": {
   "codemirror_mode": {
    "name": "ipython",
    "version": 3
   },
   "file_extension": ".py",
   "mimetype": "text/x-python",
   "name": "python",
   "nbconvert_exporter": "python",
   "pygments_lexer": "ipython3",
   "version": "3.11.4"
  }
 },
 "nbformat": 4,
 "nbformat_minor": 5
}
